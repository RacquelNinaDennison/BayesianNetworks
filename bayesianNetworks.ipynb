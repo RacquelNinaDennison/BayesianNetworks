{
 "cells": [
  {
   "cell_type": "code",
   "execution_count": 91,
   "metadata": {},
   "outputs": [],
   "source": [
    "from pylab import * \n",
    "import matplotlib.pyplot as plt\n",
    "import os\n",
    "import pyAgrum as gum \n",
    "import pyAgrum.lib.notebook as gnb"
   ]
  },
  {
   "cell_type": "code",
   "execution_count": 92,
   "metadata": {},
   "outputs": [
    {
     "data": {
      "text/html": [
       "<svg xmlns=\"http://www.w3.org/2000/svg\" xmlns:xlink=\"http://www.w3.org/1999/xlink\" width=\"360pt\" height=\"205pt\" viewBox=\"0.00 0.00 360.00 205.21\">\n",
       "<g id=\"graph0\" class=\"graph\" transform=\"scale(0.789252 0.789252) rotate(0) translate(4 256)\">\n",
       "<title>G</title>\n",
       "<!-- interest -->\n",
       "<g id=\"node1\" class=\"node\">\n",
       "<title>interest</title>\n",
       "<g id=\"a_node1\"><a xlink:title=\"(6) interest\">\n",
       "<ellipse fill=\"#404040\" stroke=\"#4a4a4a\" cx=\"105.91\" cy=\"-234\" rx=\"38.04\" ry=\"18\"/>\n",
       "<text text-anchor=\"middle\" x=\"105.91\" y=\"-228.95\" font-family=\"Times,serif\" font-size=\"14.00\" fill=\"white\">interest</text>\n",
       "</a>\n",
       "</g>\n",
       "</g>\n",
       "<!-- schoolAccreditation -->\n",
       "<g id=\"node2\" class=\"node\">\n",
       "<title>schoolAccreditation</title>\n",
       "<g id=\"a_node2\"><a xlink:title=\"(3) schoolAccreditation\">\n",
       "<ellipse fill=\"#404040\" stroke=\"#4a4a4a\" cx=\"210.91\" cy=\"-90\" rx=\"85.13\" ry=\"18\"/>\n",
       "<text text-anchor=\"middle\" x=\"210.91\" y=\"-84.95\" font-family=\"Times,serif\" font-size=\"14.00\" fill=\"white\">schoolAccreditation</text>\n",
       "</a>\n",
       "</g>\n",
       "</g>\n",
       "<!-- averageGrades -->\n",
       "<g id=\"node4\" class=\"node\">\n",
       "<title>averageGrades</title>\n",
       "<g id=\"a_node4\"><a xlink:title=\"(5) averageGrades\">\n",
       "<ellipse fill=\"#404040\" stroke=\"#4a4a4a\" cx=\"131.91\" cy=\"-18\" rx=\"65.68\" ry=\"18\"/>\n",
       "<text text-anchor=\"middle\" x=\"131.91\" y=\"-12.95\" font-family=\"Times,serif\" font-size=\"14.00\" fill=\"white\">averageGrades</text>\n",
       "</a>\n",
       "</g>\n",
       "</g>\n",
       "<!-- schoolAccreditation&#45;&gt;averageGrades -->\n",
       "<g id=\"edge6\" class=\"edge\">\n",
       "<title>schoolAccreditation-&gt;averageGrades</title>\n",
       "<g id=\"a_edge6\"><a xlink:title=\"3 → 5\">\n",
       "<path fill=\"none\" stroke=\"#4a4a4a\" d=\"M191.79,-72.05C181.91,-63.31 169.7,-52.49 158.89,-42.9\"/>\n",
       "<polygon fill=\"#4a4a4a\" stroke=\"#4a4a4a\" points=\"161.52,-40.56 151.72,-36.55 156.88,-45.8 161.52,-40.56\"/>\n",
       "</a>\n",
       "</g>\n",
       "</g>\n",
       "<!-- parentsSalary -->\n",
       "<g id=\"node3\" class=\"node\">\n",
       "<title>parentsSalary</title>\n",
       "<g id=\"a_node3\"><a xlink:title=\"(2) parentsSalary\">\n",
       "<ellipse fill=\"#404040\" stroke=\"#4a4a4a\" cx=\"295.91\" cy=\"-162\" rx=\"61.08\" ry=\"18\"/>\n",
       "<text text-anchor=\"middle\" x=\"295.91\" y=\"-156.95\" font-family=\"Times,serif\" font-size=\"14.00\" fill=\"white\">parentsSalary</text>\n",
       "</a>\n",
       "</g>\n",
       "</g>\n",
       "<!-- parentsSalary&#45;&gt;schoolAccreditation -->\n",
       "<g id=\"edge3\" class=\"edge\">\n",
       "<title>parentsSalary-&gt;schoolAccreditation</title>\n",
       "<g id=\"a_edge3\"><a xlink:title=\"2 → 3\">\n",
       "<path fill=\"none\" stroke=\"#4a4a4a\" d=\"M276.2,-144.76C265.49,-135.95 252.04,-124.87 240.14,-115.07\"/>\n",
       "<polygon fill=\"#4a4a4a\" stroke=\"#4a4a4a\" points=\"242.52,-112.5 232.57,-108.84 238.07,-117.9 242.52,-112.5\"/>\n",
       "</a>\n",
       "</g>\n",
       "</g>\n",
       "<!-- residentialArea -->\n",
       "<g id=\"node7\" class=\"node\">\n",
       "<title>residentialArea</title>\n",
       "<g id=\"a_node7\"><a xlink:title=\"(7) residentialArea\">\n",
       "<ellipse fill=\"#404040\" stroke=\"#4a4a4a\" cx=\"380.91\" cy=\"-90\" rx=\"67.22\" ry=\"18\"/>\n",
       "<text text-anchor=\"middle\" x=\"380.91\" y=\"-84.95\" font-family=\"Times,serif\" font-size=\"14.00\" fill=\"white\">residentialArea</text>\n",
       "</a>\n",
       "</g>\n",
       "</g>\n",
       "<!-- parentsSalary&#45;&gt;residentialArea -->\n",
       "<g id=\"edge2\" class=\"edge\">\n",
       "<title>parentsSalary-&gt;residentialArea</title>\n",
       "<g id=\"a_edge2\"><a xlink:title=\"2 → 7\">\n",
       "<path fill=\"none\" stroke=\"#4a4a4a\" d=\"M315.62,-144.76C326.41,-135.88 339.98,-124.71 351.95,-114.85\"/>\n",
       "<polygon fill=\"#4a4a4a\" stroke=\"#4a4a4a\" points=\"354.05,-117.65 359.54,-108.6 349.6,-112.25 354.05,-117.65\"/>\n",
       "</a>\n",
       "</g>\n",
       "</g>\n",
       "<!-- schoolType -->\n",
       "<g id=\"node5\" class=\"node\">\n",
       "<title>schoolType</title>\n",
       "<g id=\"a_node5\"><a xlink:title=\"(4) schoolType\">\n",
       "<ellipse fill=\"#404040\" stroke=\"#4a4a4a\" cx=\"53.91\" cy=\"-90\" rx=\"53.91\" ry=\"18\"/>\n",
       "<text text-anchor=\"middle\" x=\"53.91\" y=\"-84.95\" font-family=\"Times,serif\" font-size=\"14.00\" fill=\"white\">schoolType</text>\n",
       "</a>\n",
       "</g>\n",
       "</g>\n",
       "<!-- schoolType&#45;&gt;averageGrades -->\n",
       "<g id=\"edge4\" class=\"edge\">\n",
       "<title>schoolType-&gt;averageGrades</title>\n",
       "<g id=\"a_edge4\"><a xlink:title=\"4 → 5\">\n",
       "<path fill=\"none\" stroke=\"#4a4a4a\" d=\"M72,-72.76C81.8,-63.97 94.1,-52.93 105.01,-43.14\"/>\n",
       "<polygon fill=\"#4a4a4a\" stroke=\"#4a4a4a\" points=\"107.14,-45.93 112.25,-36.64 102.47,-40.72 107.14,-45.93\"/>\n",
       "</a>\n",
       "</g>\n",
       "</g>\n",
       "<!-- parentsCollege -->\n",
       "<g id=\"node6\" class=\"node\">\n",
       "<title>parentsCollege</title>\n",
       "<g id=\"a_node6\"><a xlink:title=\"(0) parentsCollege\">\n",
       "<ellipse fill=\"#404040\" stroke=\"#4a4a4a\" cx=\"227.91\" cy=\"-234\" rx=\"66.19\" ry=\"18\"/>\n",
       "<text text-anchor=\"middle\" x=\"227.91\" y=\"-228.95\" font-family=\"Times,serif\" font-size=\"14.00\" fill=\"white\">parentsCollege</text>\n",
       "</a>\n",
       "</g>\n",
       "</g>\n",
       "<!-- parentsCollege&#45;&gt;parentsSalary -->\n",
       "<g id=\"edge5\" class=\"edge\">\n",
       "<title>parentsCollege-&gt;parentsSalary</title>\n",
       "<g id=\"a_edge5\"><a xlink:title=\"0 → 2\">\n",
       "<path fill=\"none\" stroke=\"#4a4a4a\" d=\"M244.03,-216.41C252.41,-207.78 262.82,-197.06 272.11,-187.5\"/>\n",
       "<polygon fill=\"#4a4a4a\" stroke=\"#4a4a4a\" points=\"274.4,-190.17 278.86,-180.56 269.38,-185.29 274.4,-190.17\"/>\n",
       "</a>\n",
       "</g>\n",
       "</g>\n",
       "<!-- parentsAge -->\n",
       "<g id=\"node8\" class=\"node\">\n",
       "<title>parentsAge</title>\n",
       "<g id=\"a_node8\"><a xlink:title=\"(1) parentsAge\">\n",
       "<ellipse fill=\"#404040\" stroke=\"#4a4a4a\" cx=\"364.91\" cy=\"-234\" rx=\"52.89\" ry=\"18\"/>\n",
       "<text text-anchor=\"middle\" x=\"364.91\" y=\"-228.95\" font-family=\"Times,serif\" font-size=\"14.00\" fill=\"white\">parentsAge</text>\n",
       "</a>\n",
       "</g>\n",
       "</g>\n",
       "<!-- parentsAge&#45;&gt;parentsSalary -->\n",
       "<g id=\"edge1\" class=\"edge\">\n",
       "<title>parentsAge-&gt;parentsSalary</title>\n",
       "<g id=\"a_edge1\"><a xlink:title=\"1 → 2\">\n",
       "<path fill=\"none\" stroke=\"#4a4a4a\" d=\"M348.56,-216.41C340.05,-207.78 329.49,-197.06 320.06,-187.5\"/>\n",
       "<polygon fill=\"#4a4a4a\" stroke=\"#4a4a4a\" points=\"322.72,-185.21 313.21,-180.55 317.74,-190.13 322.72,-185.21\"/>\n",
       "</a>\n",
       "</g>\n",
       "</g>\n",
       "</g>\n",
       "</svg>"
      ],
      "text/plain": [
       "(pyAgrum.BayesNet<double>@0x12b22a600) BN{nodes: 8, arcs: 6, domainSize: 384, dim: 17, mem: 264o}"
      ]
     },
     "execution_count": 92,
     "metadata": {},
     "output_type": "execute_result"
    }
   ],
   "source": [
    "# setting up the network \n",
    "bn = gum.BayesNet(\"WillGoToCollege\")\n",
    "id_pc=bn.add(gum.LabelizedVariable('parentsCollege','parentsCollege',2))\n",
    "id_pa=bn.add(gum.LabelizedVariable('parentsAge','parentsAge',2))\n",
    "id_ps = bn.add(gum.LabelizedVariable('parentsSalary','parentsSalary',2))\n",
    "id_sa = bn.add(gum.LabelizedVariable('schoolAccreditation','schoolAccreditation',2))\n",
    "id_st = bn.add(gum.LabelizedVariable('schoolType','schoolType',2))\n",
    "id_ag = bn.add(gum.LabelizedVariable('averageGrades','averageGrades',2))\n",
    "id_in = bn.add(gum.LabelizedVariable('interest','interest',3))\n",
    "id_ra = bn.add(gum.LabelizedVariable('residentialArea','residentialArea',2))\n",
    "\n",
    "for link in [(id_pc,id_ps),(id_ps,id_sa),  (id_sa, id_ag), (id_pa,id_ps), (id_ps,id_ra), (id_st,id_ag)]:\n",
    "    bn.addArc(*link)\n",
    "bn"
   ]
  },
  {
   "attachments": {},
   "cell_type": "markdown",
   "metadata": {},
   "source": [
    "Free standing nodes "
   ]
  },
  {
   "cell_type": "code",
   "execution_count": 93,
   "metadata": {},
   "outputs": [
    {
     "data": {
      "text/html": [
       "<table style=\"border:1px solid black;border-collapse: collapse;\">\n",
       "<tr style='border:1px solid black;color:black;background-color:#808080'>\n",
       "      <th colspan='2'><center>schoolType</center></th></tr>\n",
       "<tr><th style='border:1px solid black;border-bottom-style: double;color:black;background-color:#BBBBBB'>\n",
       "      <center>0</center></th><th style='border:1px solid black;border-bottom-style: double;color:black;background-color:#BBBBBB'>\n",
       "      <center>1</center></th></tr>\n",
       "<tr><td style='color:black;background-color:#ccb164;text-align:right;padding: 3px;'>0.39</td><td style='color:black;background-color:#b1cc64;text-align:right;padding: 3px;'>0.61</td></tr>\n",
       "</table>"
      ],
      "text/plain": [
       "(pyAgrum.Potential<double>@0x12a876100) \n",
       "  schoolType       |\n",
       "0        |1        |\n",
       "---------|---------|\n",
       " 0.3910  | 0.6090  |"
      ]
     },
     "execution_count": 93,
     "metadata": {},
     "output_type": "execute_result"
    }
   ],
   "source": [
    "bn.cpt(\"parentsCollege\").fillWith([0.48,0.52])\n",
    "bn.cpt(\"parentsAge\").fillWith([0.387,0.613])\n",
    "bn.cpt(\"interest\").fillWith([0.424,0.261,0.315])\n",
    "bn.cpt(\"schoolType\").fillWith([0.391,0.609])\n",
    "\n"
   ]
  },
  {
   "cell_type": "code",
   "execution_count": 94,
   "metadata": {},
   "outputs": [
    {
     "data": {
      "text/html": [
       "<table style=\"border-style: hidden; border-collapse: collapse;\" width=\"100%\"><tr><td style=\"border-top:hidden;border-bottom:hidden;vertical-align:middle;\"><div align=\"center\" style=\"vertical-align:middle;\"><table style=\"border:1px solid black;border-collapse: collapse;\">\n",
       "<tr style='border:1px solid black;color:black;background-color:#808080'>\n",
       "      <th colspan='2'><center>parentsCollege</center></th></tr>\n",
       "<tr><th style='border:1px solid black;border-bottom-style: double;color:black;background-color:#BBBBBB'>\n",
       "      <center>0</center></th><th style='border:1px solid black;border-bottom-style: double;color:black;background-color:#BBBBBB'>\n",
       "      <center>1</center></th></tr>\n",
       "<tr><td style='color:black;background-color:#c1bc64;text-align:right;padding: 3px;'>0.48</td><td style='color:black;background-color:#bcc164;text-align:right;padding: 3px;'>0.52</td></tr>\n",
       "</table><br><small><i>P(Parents In College)</i></small></div></td></tr></table>"
      ],
      "text/plain": [
       "<IPython.core.display.HTML object>"
      ]
     },
     "metadata": {},
     "output_type": "display_data"
    },
    {
     "data": {
      "text/html": [
       "<table style=\"border-style: hidden; border-collapse: collapse;\" width=\"100%\"><tr><td style=\"border-top:hidden;border-bottom:hidden;vertical-align:middle;\"><div align=\"center\" style=\"vertical-align:middle;\"><table style=\"border:1px solid black;border-collapse: collapse;\">\n",
       "<tr style='border:1px solid black;color:black;background-color:#808080'>\n",
       "      <th colspan='2'><center>parentsAge</center></th></tr>\n",
       "<tr><th style='border:1px solid black;border-bottom-style: double;color:black;background-color:#BBBBBB'>\n",
       "      <center>0</center></th><th style='border:1px solid black;border-bottom-style: double;color:black;background-color:#BBBBBB'>\n",
       "      <center>1</center></th></tr>\n",
       "<tr><td style='color:black;background-color:#cdb064;text-align:right;padding: 3px;'>0.39</td><td style='color:black;background-color:#b0cd64;text-align:right;padding: 3px;'>0.61</td></tr>\n",
       "</table><br><small><i>P(Parents Age)</i></small></div></td></tr></table>"
      ],
      "text/plain": [
       "<IPython.core.display.HTML object>"
      ]
     },
     "metadata": {},
     "output_type": "display_data"
    },
    {
     "data": {
      "text/html": [
       "<table style=\"border-style: hidden; border-collapse: collapse;\" width=\"100%\"><tr><td style=\"border-top:hidden;border-bottom:hidden;vertical-align:middle;\"><div align=\"center\" style=\"vertical-align:middle;\"><table style=\"border:1px solid black;border-collapse: collapse;\">\n",
       "<tr style='border:1px solid black;color:black;background-color:#808080'>\n",
       "      <th colspan='3'><center>interest</center></th></tr>\n",
       "<tr><th style='border:1px solid black;border-bottom-style: double;color:black;background-color:#BBBBBB'>\n",
       "      <center>0</center></th><th style='border:1px solid black;border-bottom-style: double;color:black;background-color:#BBBBBB'>\n",
       "      <center>1</center></th><th style='border:1px solid black;border-bottom-style: double;color:black;background-color:#BBBBBB'>\n",
       "      <center>2</center></th></tr>\n",
       "<tr><td style='color:black;background-color:#c8b564;text-align:right;padding: 3px;'>0.42</td><td style='color:black;background-color:#dda064;text-align:right;padding: 3px;'>0.26</td><td style='color:black;background-color:#d6a764;text-align:right;padding: 3px;'>0.32</td></tr>\n",
       "</table><br><small><i>P(Interest in college)</i></small></div></td></tr></table>"
      ],
      "text/plain": [
       "<IPython.core.display.HTML object>"
      ]
     },
     "metadata": {},
     "output_type": "display_data"
    },
    {
     "data": {
      "text/html": [
       "<table style=\"border-style: hidden; border-collapse: collapse;\" width=\"100%\"><tr><td style=\"border-top:hidden;border-bottom:hidden;vertical-align:middle;\"><div align=\"center\" style=\"vertical-align:middle;\"><table style=\"border:1px solid black;border-collapse: collapse;\">\n",
       "<tr style='border:1px solid black;color:black;background-color:#808080'>\n",
       "      <th colspan='2'><center>schoolType</center></th></tr>\n",
       "<tr><th style='border:1px solid black;border-bottom-style: double;color:black;background-color:#BBBBBB'>\n",
       "      <center>0</center></th><th style='border:1px solid black;border-bottom-style: double;color:black;background-color:#BBBBBB'>\n",
       "      <center>1</center></th></tr>\n",
       "<tr><td style='color:black;background-color:#ccb164;text-align:right;padding: 3px;'>0.39</td><td style='color:black;background-color:#b1cc64;text-align:right;padding: 3px;'>0.61</td></tr>\n",
       "</table><br><small><i>P(School Type)</i></small></div></td></tr></table>"
      ],
      "text/plain": [
       "<IPython.core.display.HTML object>"
      ]
     },
     "metadata": {},
     "output_type": "display_data"
    },
    {
     "data": {
      "text/html": [
       "<table style=\"border-style: hidden; border-collapse: collapse;\" width=\"100%\"><tr><td style=\"border-top:hidden;border-bottom:hidden;vertical-align:middle;\"><div align=\"center\" style=\"vertical-align:middle;\"><table style=\"border:1px solid black;border-collapse: collapse;\">\n",
       "<tr><th colspan='1'></th>\n",
       "      <th colspan='2' style='border:1px solid black;color:black;background-color:#808080;'><center>residentialArea</center>\n",
       "      </th></tr>\n",
       "<tr><th style='border:1px solid black;color:black;background-color:#808080'><center>parentsSalary</center></th><th style='border:1px solid black;border-bottom-style: double;color:black;background-color:#BBBBBB'>\n",
       "      <center>0</center></th><th style='border:1px solid black;border-bottom-style: double;color:black;background-color:#BBBBBB'>\n",
       "      <center>1</center></th></tr>\n",
       "<tr><th style='border:1px solid black;color:black;background-color:#BBBBBB'><center>0</center></th><td style='text-align:right;padding: 3px;'>0.00</td><td style='text-align:right;padding: 3px;'>0.00</td></tr>\n",
       "<tr><th style='border:1px solid black;color:black;background-color:#BBBBBB'><center>1</center></th><td style='text-align:right;padding: 3px;'>0.00</td><td style='text-align:right;padding: 3px;'>0.00</td></tr>\n",
       "</table><br><small><i>P(Residential Area)</i></small></div></td></tr></table>"
      ],
      "text/plain": [
       "<IPython.core.display.HTML object>"
      ]
     },
     "metadata": {},
     "output_type": "display_data"
    }
   ],
   "source": [
    "gum.config['notebook','potential_visible_digits']=2\n",
    "gnb.sideBySide(bn.cpt(\"parentsCollege\"),captions=['P(Parents In College)'])\n",
    "gnb.sideBySide(bn.cpt(\"parentsAge\"),captions=['P(Parents Age)'])\n",
    "gnb.sideBySide(bn.cpt(\"interest\"),captions=['P(Interest in college)'])\n",
    "gnb.sideBySide(bn.cpt(\"schoolType\"),captions=['P(School Type)'])\n",
    "gnb.sideBySide(bn.cpt(\"residentialArea\"),captions=['P(Residential Area)'])"
   ]
  },
  {
   "attachments": {},
   "cell_type": "markdown",
   "metadata": {},
   "source": [
    "Conditional Probabilities"
   ]
  },
  {
   "attachments": {},
   "cell_type": "markdown",
   "metadata": {},
   "source": [
    "Parents Salary | Went to college and Age"
   ]
  },
  {
   "cell_type": "code",
   "execution_count": 95,
   "metadata": {},
   "outputs": [
    {
     "data": {
      "text/html": [
       "<table style=\"border:1px solid black;border-collapse: collapse;\">\n",
       "<tr><th colspan='2'></th>\n",
       "      <th colspan='2' style='border:1px solid black;color:black;background-color:#808080;'><center>parentsSalary</center>\n",
       "      </th></tr>\n",
       "<tr><th style='border:1px solid black;color:black;background-color:#808080'><center>parentsAge</center></th><th style='border:1px solid black;color:black;background-color:#808080'><center>parentsCollege</center></th><th style='border:1px solid black;border-bottom-style: double;color:black;background-color:#BBBBBB'>\n",
       "      <center>0</center></th><th style='border:1px solid black;border-bottom-style: double;color:black;background-color:#BBBBBB'>\n",
       "      <center>1</center></th></tr>\n",
       "<tr><th style='border:1px solid black;color:black;background-color:#BBBBBB;' rowspan = '2'>\n",
       "            <center>0</center></th><th style='border:1px solid black;color:black;background-color:#BBBBBB'><center>0</center></th><td style='color:black;background-color:#d4a964;text-align:right;padding: 3px;'>0.33</td><td style='color:black;background-color:#a9d464;text-align:right;padding: 3px;'>0.67</td></tr>\n",
       "<tr><th style='border:1px solid black;color:black;background-color:#BBBBBB'><center>1</center></th><td style='color:black;background-color:#d0ad64;text-align:right;padding: 3px;'>0.36</td><td style='color:black;background-color:#add064;text-align:right;padding: 3px;'>0.64</td></tr>\n",
       "<tr><th style='border:1px solid black;color:black;background-color:#BBBBBB;' rowspan = '2'>\n",
       "            <center>1</center></th><th style='border:1px solid black;color:black;background-color:#BBBBBB'><center>0</center></th><td style='color:black;background-color:#b2cb64;text-align:right;padding: 3px;'>0.60</td><td style='color:black;background-color:#cbb264;text-align:right;padding: 3px;'>0.40</td></tr>\n",
       "<tr><th style='border:1px solid black;color:black;background-color:#BBBBBB'><center>1</center></th><td style='color:black;background-color:#bfbf64;text-align:right;padding: 3px;'>0.50</td><td style='color:black;background-color:#bfbf64;text-align:right;padding: 3px;'>0.50</td></tr>\n",
       "</table>"
      ],
      "text/plain": [
       "(pyAgrum.Potential<double>@0x12a872380) \n",
       "             ||  parentsSalary    |\n",
       "parent|parent||0        |1        |\n",
       "------|------||---------|---------|\n",
       "0     |0     || 0.3299  | 0.6701  |\n",
       "1     |0     || 0.3621  | 0.6379  |\n",
       "0     |1     || 0.6005  | 0.3995  |\n",
       "1     |1     || 0.5000  | 0.5000  |"
      ]
     },
     "execution_count": 95,
     "metadata": {},
     "output_type": "execute_result"
    }
   ],
   "source": [
    "# Fill the CPT for parentsSalary given parentsCollege and parentsAge\n",
    "bn.cpt(\"parentsSalary\")[{'parentsAge': 0, 'parentsCollege': 0}] = [0.329896907216495, 0.670103092783505]  # Parent College = FALSE, Parent Age = Old\n",
    "bn.cpt(\"parentsSalary\")[{'parentsAge': 0, 'parentsCollege': 1}] = [0.362068965517241, 1-0.362068965517241]                 # Parent College = TRUE, Parent Age = Old\n",
    "bn.cpt(\"parentsSalary\")[{'parentsAge': 1, 'parentsCollege': 0}] = [0.600522193211488, 0.399477806788512]  # Parent College = FALSE, Parent Age = Young\n",
    "bn.cpt(\"parentsSalary\")[{'parentsAge': 1, 'parentsCollege': 1}] = [0.5, 0.5]  # Parent College = TRUE, Parent Age = Young\n",
    "bn.cpt(\"parentsSalary\")"
   ]
  },
  {
   "cell_type": "markdown",
   "metadata": {},
   "source": []
  },
  {
   "attachments": {},
   "cell_type": "markdown",
   "metadata": {},
   "source": [
    "School Accreditation | Parents Salary "
   ]
  },
  {
   "cell_type": "code",
   "execution_count": 96,
   "metadata": {},
   "outputs": [
    {
     "data": {
      "text/html": [
       "<table style=\"border:1px solid black;border-collapse: collapse;\">\n",
       "<tr><th colspan='1'></th>\n",
       "      <th colspan='2' style='border:1px solid black;color:black;background-color:#808080;'><center>schoolAccreditation</center>\n",
       "      </th></tr>\n",
       "<tr><th style='border:1px solid black;color:black;background-color:#808080'><center>parentsSalary</center></th><th style='border:1px solid black;border-bottom-style: double;color:black;background-color:#BBBBBB'>\n",
       "      <center>0</center></th><th style='border:1px solid black;border-bottom-style: double;color:black;background-color:#BBBBBB'>\n",
       "      <center>1</center></th></tr>\n",
       "<tr><th style='border:1px solid black;color:black;background-color:#BBBBBB'><center>0</center></th><td style='color:black;background-color:#bac364;text-align:right;padding: 3px;'>0.53</td><td style='color:black;background-color:#c3ba64;text-align:right;padding: 3px;'>0.47</td></tr>\n",
       "<tr><th style='border:1px solid black;color:black;background-color:#BBBBBB'><center>1</center></th><td style='color:black;background-color:#bebf64;text-align:right;padding: 3px;'>0.51</td><td style='color:black;background-color:#bfbe64;text-align:right;padding: 3px;'>0.49</td></tr>\n",
       "</table>"
      ],
      "text/plain": [
       "(pyAgrum.Potential<double>@0x12a875af0) \n",
       "      ||  schoolAccreditati|\n",
       "parent||0        |1        |\n",
       "------||---------|---------|\n",
       "0     || 0.5332  | 0.4668  |\n",
       "1     || 0.5058  | 0.4942  |"
      ]
     },
     "execution_count": 96,
     "metadata": {},
     "output_type": "execute_result"
    }
   ],
   "source": [
    "bn.cpt(\"schoolAccreditation\")[{'parentsSalary': 0}] = [1-0.466804979253112, 0.466804979253112]  \n",
    "bn.cpt(\"schoolAccreditation\")[{'parentsSalary': 1}] = [0.505791505791506, 1-0.505791505791506]                 \n",
    "bn.cpt(\"schoolAccreditation\")"
   ]
  },
  {
   "attachments": {},
   "cell_type": "markdown",
   "metadata": {},
   "source": [
    "Average Grades | School Accreditation and School Type "
   ]
  },
  {
   "cell_type": "code",
   "execution_count": 97,
   "metadata": {},
   "outputs": [
    {
     "data": {
      "text/html": [
       "<table style=\"border:1px solid black;border-collapse: collapse;\">\n",
       "<tr><th colspan='2'></th>\n",
       "      <th colspan='2' style='border:1px solid black;color:black;background-color:#808080;'><center>averageGrades</center>\n",
       "      </th></tr>\n",
       "<tr><th style='border:1px solid black;color:black;background-color:#808080'><center>schoolType</center></th><th style='border:1px solid black;color:black;background-color:#808080'><center>schoolAccreditation</center></th><th style='border:1px solid black;border-bottom-style: double;color:black;background-color:#BBBBBB'>\n",
       "      <center>0</center></th><th style='border:1px solid black;border-bottom-style: double;color:black;background-color:#BBBBBB'>\n",
       "      <center>1</center></th></tr>\n",
       "<tr><th style='border:1px solid black;color:black;background-color:#BBBBBB;' rowspan = '2'>\n",
       "            <center>0</center></th><th style='border:1px solid black;color:black;background-color:#BBBBBB'><center>0</center></th><td style='color:black;background-color:#b4c964;text-align:right;padding: 3px;'>0.58</td><td style='color:black;background-color:#c9b464;text-align:right;padding: 3px;'>0.42</td></tr>\n",
       "<tr><th style='border:1px solid black;color:black;background-color:#BBBBBB'><center>1</center></th><td style='color:black;background-color:#b6c764;text-align:right;padding: 3px;'>0.57</td><td style='color:black;background-color:#c7b664;text-align:right;padding: 3px;'>0.43</td></tr>\n",
       "<tr><th style='border:1px solid black;color:black;background-color:#BBBBBB;' rowspan = '2'>\n",
       "            <center>1</center></th><th style='border:1px solid black;color:black;background-color:#BBBBBB'><center>0</center></th><td style='color:black;background-color:#c2bb64;text-align:right;padding: 3px;'>0.47</td><td style='color:black;background-color:#bbc264;text-align:right;padding: 3px;'>0.53</td></tr>\n",
       "<tr><th style='border:1px solid black;color:black;background-color:#BBBBBB'><center>1</center></th><td style='color:black;background-color:#b2cb64;text-align:right;padding: 3px;'>0.60</td><td style='color:black;background-color:#cbb264;text-align:right;padding: 3px;'>0.40</td></tr>\n",
       "</table>"
      ],
      "text/plain": [
       "(pyAgrum.Potential<double>@0x12a876720) \n",
       "             ||  averageGrades    |\n",
       "school|school||0        |1        |\n",
       "------|------||---------|---------|\n",
       "0     |0     || 0.5808  | 0.4192  |\n",
       "1     |0     || 0.5699  | 0.4301  |\n",
       "0     |1     || 0.4735  | 0.5265  |\n",
       "1     |1     || 0.6007  | 0.3993  |"
      ]
     },
     "execution_count": 97,
     "metadata": {},
     "output_type": "execute_result"
    }
   ],
   "source": [
    "bn.cpt(\"averageGrades\")[{'schoolAccreditation': 0, 'schoolType': 0}] = [0.580808080808081, 1-0.580808080808081]  \n",
    "bn.cpt(\"averageGrades\")[{'schoolAccreditation': 0, 'schoolType': 1}] = [1-0.526479750778816, 0.526479750778816]                \n",
    "bn.cpt(\"averageGrades\")[{'schoolAccreditation': 1, 'schoolType': 0}] = [1-0.430051813471503, 0.430051813471503]  \n",
    "bn.cpt(\"averageGrades\")[{'schoolAccreditation': 1, 'schoolType': 1}] = [1-0.399305555555556, 0.399305555555556]  \n",
    "bn.cpt(\"averageGrades\")"
   ]
  },
  {
   "attachments": {},
   "cell_type": "markdown",
   "metadata": {},
   "source": [
    "Residence | Parents Salary "
   ]
  },
  {
   "cell_type": "code",
   "execution_count": 98,
   "metadata": {},
   "outputs": [
    {
     "data": {
      "text/html": [
       "<table style=\"border:1px solid black;border-collapse: collapse;\">\n",
       "<tr><th colspan='1'></th>\n",
       "      <th colspan='2' style='border:1px solid black;color:black;background-color:#808080;'><center>residentialArea</center>\n",
       "      </th></tr>\n",
       "<tr><th style='border:1px solid black;color:black;background-color:#808080'><center>parentsSalary</center></th><th style='border:1px solid black;border-bottom-style: double;color:black;background-color:#BBBBBB'>\n",
       "      <center>0</center></th><th style='border:1px solid black;border-bottom-style: double;color:black;background-color:#BBBBBB'>\n",
       "      <center>1</center></th></tr>\n",
       "<tr><th style='border:1px solid black;color:black;background-color:#BBBBBB'><center>0</center></th><td style='color:black;background-color:#a7d664;text-align:right;padding: 3px;'>0.68</td><td style='color:black;background-color:#d6a764;text-align:right;padding: 3px;'>0.32</td></tr>\n",
       "<tr><th style='border:1px solid black;color:black;background-color:#BBBBBB'><center>1</center></th><td style='color:black;background-color:#cab364;text-align:right;padding: 3px;'>0.41</td><td style='color:black;background-color:#b3ca64;text-align:right;padding: 3px;'>0.59</td></tr>\n",
       "</table>"
      ],
      "text/plain": [
       "(pyAgrum.Potential<double>@0x12a8773d0) \n",
       "      ||  residentialArea  |\n",
       "parent||0        |1        |\n",
       "------||---------|---------|\n",
       "0     || 0.6805  | 0.3195  |\n",
       "1     || 0.4073  | 0.5927  |"
      ]
     },
     "execution_count": 98,
     "metadata": {},
     "output_type": "execute_result"
    }
   ],
   "source": [
    "bn.cpt(\"residentialArea\")[{'parentsSalary': 0}] = [1-0.319502074688797, 0.319502074688797]  \n",
    "bn.cpt(\"residentialArea\")[{'parentsSalary': 1}] = [1-0.592664092664093, 0.592664092664093]                 \n",
    "bn.cpt(\"residentialArea\")"
   ]
  }
 ],
 "metadata": {
  "kernelspec": {
   "display_name": "Python 3",
   "language": "python",
   "name": "python3"
  },
  "language_info": {
   "codemirror_mode": {
    "name": "ipython",
    "version": 3
   },
   "file_extension": ".py",
   "mimetype": "text/x-python",
   "name": "python",
   "nbconvert_exporter": "python",
   "pygments_lexer": "ipython3",
   "version": "3.12.6"
  },
  "orig_nbformat": 4
 },
 "nbformat": 4,
 "nbformat_minor": 2
}
